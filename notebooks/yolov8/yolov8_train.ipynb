{
  "cells": [
    {
      "cell_type": "code",
      "execution_count": null,
      "metadata": {
        "colab": {
          "base_uri": "https://localhost:8080/"
        },
        "id": "s-BXJ5BtrQz1",
        "outputId": "e7c0efa1-a8e1-47f3-ec75-82c9fa723bcc"
      },
      "outputs": [],
      "source": [
        "import torch\n",
        "torch.cuda.is_available()"
      ]
    },
    {
      "cell_type": "code",
      "execution_count": null,
      "metadata": {
        "colab": {
          "base_uri": "https://localhost:8080/"
        },
        "id": "Le6uRo-kkPyT",
        "outputId": "3ff8b4f4-4e31-4534-ab72-a384bb5bd2d1"
      },
      "outputs": [],
      "source": [
        "import os\n",
        "HOME = os.getcwd()\n",
        "print(HOME)"
      ]
    },
    {
      "cell_type": "code",
      "execution_count": null,
      "metadata": {
        "colab": {
          "base_uri": "https://localhost:8080/"
        },
        "id": "bBtnQNfsIfcB",
        "outputId": "28cff5fb-b189-4730-9651-8a2eb6dc9cb4"
      },
      "outputs": [],
      "source": [
        "\n",
        "!pip install ultralytics\n",
        "!pip install ultralytics==8.0.28\n",
        "\n",
        "from IPython import display\n",
        "display.clear_output()\n",
        "\n",
        "import ultralytics\n",
        "ultralytics.checks()"
      ]
    },
    {
      "cell_type": "code",
      "execution_count": null,
      "metadata": {
        "id": "yIgz2HTmsMia"
      },
      "outputs": [],
      "source": [
        "from ultralytics import YOLO\n",
        "\n",
        "from IPython.display import display, Image"
      ]
    },
    {
      "cell_type": "code",
      "execution_count": null,
      "metadata": {
        "colab": {
          "base_uri": "https://localhost:8080/",
          "height": 1000
        },
        "id": "GLhH_N0K-lZ3",
        "outputId": "07c847cb-3013-44f9-9ee9-1a89124a2f83"
      },
      "outputs": [],
      "source": [
        "!mkdir {HOME}/datasets\n",
        "%cd {HOME}/datasets\n",
        "\n",
        "\n",
        "!pip install roboflow\n",
        "\n",
        "from roboflow import Roboflow\n",
        "rf = Roboflow(api_key=\"XMzlZ50lfNikO4rN8iV2\")\n",
        "project = rf.workspace(\"teeth-segmentation\").project(\"teeth-segmentation-evs6x\")\n",
        "dataset = project.version(15).download(\"yolov8\")"
      ]
    },
    {
      "cell_type": "code",
      "execution_count": null,
      "metadata": {
        "colab": {
          "base_uri": "https://localhost:8080/"
        },
        "id": "QekLb-pr4HsZ",
        "outputId": "aa438269-50df-40af-dd89-e841fc9bfda5"
      },
      "outputs": [],
      "source": [
        "!yolo task=detect mode=train model=yolov8x.pt data={dataset.location}/data.yaml epochs=30 batch=10 imgsz=640 cache=True single_cls=False val=True dropout=0.6 close_mosaic=0 cos_lr=True exist_ok=True warmup_epochs=10 lrf=0.005"
      ]
    }
  ],
  "metadata": {
    "accelerator": "GPU",
    "colab": {
      "gpuType": "T4",
      "provenance": []
    },
    "kernelspec": {
      "display_name": "Python 3",
      "name": "python3"
    },
    "language_info": {
      "name": "python"
    }
  },
  "nbformat": 4,
  "nbformat_minor": 0
}
