{
  "cells": [
    {
      "cell_type": "code",
      "execution_count": null,
      "metadata": {
        "colab": {
          "base_uri": "https://localhost:8080/"
        },
        "id": "TeQKm77PjJVJ",
        "outputId": "69ebcba8-c2ca-48ac-ef8e-4962c7fcab77"
      },
      "outputs": [],
      "source": [
        "gpu_info = !nvidia-smi\n",
        "gpu_info = '\\n'.join(gpu_info)\n",
        "if gpu_info.find('failed') >= 0:\n",
        "  print('Not connected to a GPU')\n",
        "else:\n",
        "  print(gpu_info)"
      ]
    },
    {
      "cell_type": "code",
      "execution_count": null,
      "metadata": {
        "colab": {
          "base_uri": "https://localhost:8080/"
        },
        "id": "Yg1LbJEbjg09",
        "outputId": "045750b4-8780-4d48-bd31-89a800183c74"
      },
      "outputs": [],
      "source": [
        "!pip install ultralytics==8.0.28\n",
        "\n",
        "from IPython import display\n",
        "display.clear_output()\n",
        "\n",
        "import ultralytics\n",
        "ultralytics.checks()"
      ]
    },
    {
      "cell_type": "code",
      "execution_count": 5,
      "metadata": {
        "id": "Il94BiBDjiAc"
      },
      "outputs": [],
      "source": [
        "from ultralytics import YOLO\n",
        "\n",
        "from IPython.display import display, Image"
      ]
    },
    {
      "cell_type": "code",
      "execution_count": null,
      "metadata": {
        "colab": {
          "base_uri": "https://localhost:8080/",
          "height": 1000
        },
        "id": "UY3di9Z5jrgz",
        "outputId": "9d5ccdeb-2f87-478c-ce4c-50583a6dedae"
      },
      "outputs": [],
      "source": [
        "!mkdir {HOME}/datasets\n",
        "%cd {HOME}/datasets\n",
        "\n",
        "\n",
        "!pip install roboflow\n",
        "\n",
        "from roboflow import Roboflow\n",
        "rf = Roboflow(api_key=\"XMzlZ50lfNikO4rN8iV2\")\n",
        "project = rf.workspace(\"teeth-segmentation\").project(\"teeth-segmentation-evs6x\")\n",
        "dataset = project.version(8).download(\"yolov8\")\n"
      ]
    },
    {
      "cell_type": "code",
      "execution_count": null,
      "metadata": {
        "colab": {
          "base_uri": "https://localhost:8080/"
        },
        "id": "um8ufP-jj2kX",
        "outputId": "88d5bc4b-acac-4a59-b3e8-2adfcac33f6b"
      },
      "outputs": [],
      "source": [
        "%cd {HOME}\n",
        "#path to the pre-trained weights of the yolov8 model and the data.yaml file of the dataset\n",
        "!yolo task=detect mode=val model= '...' data=/content/datasets/teeth-segmentation-8/data.yaml  iou=0.5 conf=0.5"
      ]
    }
  ],
  "metadata": {
    "accelerator": "GPU",
    "colab": {
      "gpuType": "T4",
      "machine_shape": "hm",
      "provenance": []
    },
    "kernelspec": {
      "display_name": "Python 3",
      "name": "python3"
    },
    "language_info": {
      "name": "python"
    }
  },
  "nbformat": 4,
  "nbformat_minor": 0
}
