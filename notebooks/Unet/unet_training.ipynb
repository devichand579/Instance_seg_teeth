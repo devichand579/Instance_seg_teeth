{
 "cells": [
  {
   "cell_type": "code",
   "execution_count": null,
   "metadata": {},
   "outputs": [],
   "source": [
    "import tensorflow as tf\n",
    "print(\"Num GPUs Available: \", len(tf.config.list_physical_devices('GPU')))"
   ]
  },
  {
   "cell_type": "code",
   "execution_count": null,
   "metadata": {},
   "outputs": [],
   "source": [
    "gpus = tf.config.list_physical_devices('GPU')\n",
    "if gpus:\n",
    "  try:\n",
    "    # Currently, memory growth needs to be the same across GPUs\n",
    "    for gpu in gpus:\n",
    "      tf.config.experimental.set_memory_growth(gpu, True)\n",
    "    logical_gpus = tf.config.list_logical_devices('GPU')\n",
    "    print(len(gpus), \"Physical GPUs,\", len(logical_gpus), \"Logical GPUs\")\n",
    "  except RuntimeError as e:\n",
    "    # Memory growth must be set before GPUs have been initialized\n",
    "    print(e)"
   ]
  },
  {
   "cell_type": "code",
   "execution_count": null,
   "metadata": {},
   "outputs": [],
   "source": [
    "import psutil\n",
    "\n",
    "def get_ram_usage():\n",
    "    return psutil.virtual_memory().used / (1024 ** 3) \n",
    "\n",
    "ram_usage_gb = get_ram_usage()\n",
    "print(f\"RAM Usage: {ram_usage_gb:.2f} GB\")\n"
   ]
  },
  {
   "cell_type": "code",
   "execution_count": null,
   "metadata": {},
   "outputs": [],
   "source": [
    "import psutil\n",
    "\n",
    "# Get memory usage information\n",
    "memory = psutil.virtual_memory()\n",
    "\n",
    "# Total RAM in bytes\n",
    "total_memory = memory.total\n",
    "\n",
    "# RAM used in bytes\n",
    "used_memory = memory.used\n",
    "\n",
    "# RAM free in bytes\n",
    "free_memory = memory.available\n",
    "\n",
    "# RAM usage percentage\n",
    "memory_percentage = memory.percent\n",
    "\n",
    "print(f\"Total Memory: {total_memory / (1024 ** 3)} GB\")\n",
    "print(f\"Used Memory: {used_memory / (1024 ** 3)} GB\")\n",
    "print(f\"Free Memory: {free_memory / (1024 ** 3)} GB\")\n",
    "print(f\"Memory Usage: {memory_percentage}%\")"
   ]
  },
  {
   "cell_type": "code",
   "execution_count": null,
   "metadata": {
    "colab": {
     "base_uri": "https://localhost:8080/"
    },
    "executionInfo": {
     "elapsed": 10,
     "status": "ok",
     "timestamp": 1689503272596,
     "user": {
      "displayName": "Devichand Budagam",
      "userId": "10992858854209313897"
     },
     "user_tz": -330
    },
    "id": "8BRhHjonURUk",
    "outputId": "cb70e958-b5ad-44c5-a6c6-1cc4d899b0f8"
   },
   "outputs": [],
   "source": [
    "gpu_info = !nvidia-smi\n",
    "gpu_info = '\\n'.join(gpu_info)\n",
    "if gpu_info.find('failed') >= 0:\n",
    "  print('Not connected to a GPU')\n",
    "else:\n",
    "  print(gpu_info)"
   ]
  },
  {
   "cell_type": "code",
   "execution_count": null,
   "metadata": {
    "colab": {
     "base_uri": "https://localhost:8080/"
    },
    "executionInfo": {
     "elapsed": 1272,
     "status": "ok",
     "timestamp": 1689503277826,
     "user": {
      "displayName": "Devichand Budagam",
      "userId": "10992858854209313897"
     },
     "user_tz": -330
    },
    "id": "ov7VTXZfUlWm",
    "outputId": "735da49d-a3f5-4953-c5bb-37463389eaa4"
   },
   "outputs": [],
   "source": [
    "from psutil import virtual_memory\n",
    "ram_gb = virtual_memory().total / 1e9\n",
    "print('Your runtime has {:.1f} gigabytes of available RAM\\n'.format(ram_gb))\n",
    "\n",
    "if ram_gb < 20:\n",
    "  print('Not using a high-RAM runtime')\n",
    "else:\n",
    "  print('You are using a high-RAM runtime!')"
   ]
  },
  {
   "cell_type": "code",
   "execution_count": null,
   "metadata": {
    "colab": {
     "base_uri": "https://localhost:8080/"
    },
    "executionInfo": {
     "elapsed": 615,
     "status": "ok",
     "timestamp": 1689503291213,
     "user": {
      "displayName": "Devichand Budagam",
      "userId": "10992858854209313897"
     },
     "user_tz": -330
    },
    "id": "Le6uRo-kkPyT",
    "outputId": "ed590272-78ac-460b-9528-691ecb6b1b3c"
   },
   "outputs": [],
   "source": [
    "import os\n",
    "HOME = os.getcwd()\n",
    "print(HOME)"
   ]
  },
  {
   "cell_type": "code",
   "execution_count": null,
   "metadata": {},
   "outputs": [],
   "source": [
    "from IPython import display\n",
    "display.clear_output()\n",
    "\n",
    "import ultralytics\n",
    "ultralytics.checks()"
   ]
  },
  {
   "cell_type": "code",
   "execution_count": 10,
   "metadata": {
    "executionInfo": {
     "elapsed": 2,
     "status": "ok",
     "timestamp": 1689503308703,
     "user": {
      "displayName": "Devichand Budagam",
      "userId": "10992858854209313897"
     },
     "user_tz": -330
    },
    "id": "yIgz2HTmsMia"
   },
   "outputs": [],
   "source": [
    "from ultralytics import YOLO\n",
    "\n",
    "from IPython.display import display, Image"
   ]
  },
  {
   "cell_type": "code",
   "execution_count": null,
   "metadata": {
    "colab": {
     "base_uri": "https://localhost:8080/"
    },
    "executionInfo": {
     "elapsed": 43478,
     "status": "ok",
     "timestamp": 1689503408710,
     "user": {
      "displayName": "Devichand Budagam",
      "userId": "10992858854209313897"
     },
     "user_tz": -330
    },
    "id": "EsNvgrz0uHfm",
    "outputId": "fe31c3a5-fb13-4900-a47f-e02165f3b3af"
   },
   "outputs": [],
   "source": [
    "from ultralytics import YOLO\n",
    "#path to yolov8 pre-trained model weights\n",
    "model = YOLO(f'...')\n",
    "#path to images folder to be detected\n",
    "results=model.predict(source='...', iou=0.7, conf=0.5, save=True ,device=0)\n",
    "\n"
   ]
  },
  {
   "cell_type": "code",
   "execution_count": 13,
   "metadata": {
    "executionInfo": {
     "elapsed": 599,
     "status": "ok",
     "timestamp": 1689503424833,
     "user": {
      "displayName": "Devichand Budagam",
      "userId": "10992858854209313897"
     },
     "user_tz": -330
    },
    "id": "qeTmZ5aAjPWl"
   },
   "outputs": [],
   "source": [
    "cls=[]\n",
    "for result in results :\n",
    "  boxes =result.boxes\n",
    "  classes=boxes.cls\n",
    "  cls.append(classes)\n",
    "\n",
    "for i in range(len(cls)):\n",
    "  cls[i]=cls[i].cpu().numpy()\n",
    "\n"
   ]
  },
  {
   "cell_type": "code",
   "execution_count": null,
   "metadata": {
    "colab": {
     "base_uri": "https://localhost:8080/"
    },
    "executionInfo": {
     "elapsed": 2,
     "status": "ok",
     "timestamp": 1689503427220,
     "user": {
      "displayName": "Devichand Budagam",
      "userId": "10992858854209313897"
     },
     "user_tz": -330
    },
    "id": "b0sfwSDh1pxC",
    "outputId": "87815d37-77a9-4019-e352-bd5296187b70"
   },
   "outputs": [],
   "source": [
    "box=[]\n",
    "\n",
    "for result in results :\n",
    "  boxes =result.boxes\n",
    "  boxes=boxes.xywh\n",
    "  box.append(boxes)\n",
    "\n",
    "\n",
    "for i in range(len(box)):\n",
    "  box[i]=box[i].cpu().numpy()\n",
    "\n",
    "\n",
    "box[0]"
   ]
  },
  {
   "cell_type": "code",
   "execution_count": 15,
   "metadata": {
    "executionInfo": {
     "elapsed": 2,
     "status": "ok",
     "timestamp": 1689503429431,
     "user": {
      "displayName": "Devichand Budagam",
      "userId": "10992858854209313897"
     },
     "user_tz": -330
    },
    "id": "4puAWcc-J1oA"
   },
   "outputs": [],
   "source": [
    "import tensorflow as tf\n",
    "from tensorflow import keras\n",
    "import matplotlib.pyplot as plt\n",
    "import numpy as np"
   ]
  },
  {
   "cell_type": "code",
   "execution_count": null,
   "metadata": {
    "colab": {
     "base_uri": "https://localhost:8080/"
    },
    "executionInfo": {
     "elapsed": 709,
     "status": "ok",
     "timestamp": 1689503433079,
     "user": {
      "displayName": "Devichand Budagam",
      "userId": "10992858854209313897"
     },
     "user_tz": -330
    },
    "id": "uKeXCkr_BuVC",
    "outputId": "ee87b634-2cda-4c1a-a012-aa493e31453e"
   },
   "outputs": [],
   "source": [
    "import numpy as np\n",
    "bin_masks=[]\n",
    "for j in range(len(box)):\n",
    "   boxes1 = box[j]\n",
    "   classes1=cls[j]\n",
    "   boxes1_list=boxes1.tolist()\n",
    "   classes1_list=classes1.tolist()\n",
    "   binary_map = np.zeros((32,640,640), dtype=np.uint8)\n",
    "   for box1, class1 in zip(boxes1_list,classes1_list):\n",
    "       x,y,w,h=box1\n",
    "       x1, y1 = round(x), round(y)\n",
    "       x2, y2 = round(x+w), round(y+h)\n",
    "       binary_map[int(class1), y1:y2, x1:x2] = 1\n",
    "\n",
    "   bin_masks.append(binary_map)\n",
    "\n",
    "del results, cls, box\n",
    "bin_masks[0]\n",
    "\n"
   ]
  },
  {
   "cell_type": "code",
   "execution_count": 17,
   "metadata": {},
   "outputs": [],
   "source": [
    "def remove_nan(bb):\n",
    "    bb=np.nan_to_num(bb, nan=0)\n",
    "    return bb\n"
   ]
  },
  {
   "cell_type": "code",
   "execution_count": 18,
   "metadata": {},
   "outputs": [],
   "source": [
    "bin_masks=  list(map(remove_nan, bin_masks))"
   ]
  },
  {
   "cell_type": "code",
   "execution_count": null,
   "metadata": {
    "colab": {
     "base_uri": "https://localhost:8080/"
    },
    "executionInfo": {
     "elapsed": 5874,
     "status": "ok",
     "timestamp": 1689503443966,
     "user": {
      "displayName": "Devichand Budagam",
      "userId": "10992858854209313897"
     },
     "user_tz": -330
    },
    "id": "o-TTiPMTE291",
    "outputId": "d0d40722-eb70-4bd9-99b0-3eeb3b972913",
    "scrolled": true
   },
   "outputs": [],
   "source": [
    "import os\n",
    "#path to images of the dataset\n",
    "images_folder = '...'\n",
    "#path to labels of the dataset\n",
    "masks_folder = '...'\n",
    "\n",
    "image_files = os.listdir(images_folder)\n",
    "mask_files = os.listdir(masks_folder)\n",
    "\n",
    "\n",
    "image_files.sort()\n",
    "mask_files.sort()\n",
    "\n",
    "image_mask_pairs = []\n",
    "\n",
    "for image_file in image_files:\n",
    "    image_path = os.path.join(images_folder, image_file)\n",
    "    mask_file = image_file.replace('.jpg', '.tiff')\n",
    "    mask_path = os.path.join(masks_folder, mask_file)\n",
    "\n",
    "    if os.path.isfile(mask_path):\n",
    "        image_mask_pairs.append((image_path, mask_path))\n",
    "\n",
    "\n",
    "for image_path, mask_path in image_mask_pairs:\n",
    "    print(\"Image:\", image_path)\n",
    "    print(\"Mask:\", mask_path)\n",
    "    print()\n",
    "del image_files, mask_files"
   ]
  },
  {
   "cell_type": "code",
   "execution_count": 20,
   "metadata": {
    "executionInfo": {
     "elapsed": 581,
     "status": "ok",
     "timestamp": 1689503447511,
     "user": {
      "displayName": "Devichand Budagam",
      "userId": "10992858854209313897"
     },
     "user_tz": -330
    },
    "id": "1kRWsn9EIQuP"
   },
   "outputs": [],
   "source": [
    "from skimage import exposure\n",
    "\n",
    "def apply_clahe(image, clip_limit=0.02):\n",
    "    image_float = image.astype(float) / 255.0\n",
    "\n",
    "    image_clahe = exposure.equalize_adapthist(image_float, clip_limit=clip_limit)\n",
    "\n",
    "    image_clahe = (image_clahe * 255).astype(image.dtype)\n",
    "\n",
    "    return image_clahe"
   ]
  },
  {
   "cell_type": "code",
   "execution_count": null,
   "metadata": {
    "colab": {
     "base_uri": "https://localhost:8080/"
    },
    "executionInfo": {
     "elapsed": 666356,
     "status": "ok",
     "timestamp": 1689504117478,
     "user": {
      "displayName": "Devichand Budagam",
      "userId": "10992858854209313897"
     },
     "user_tz": -330
    },
    "id": "AN-OgrsNgC7l",
    "outputId": "5d8107d6-d419-4669-e34a-d216bd1f4dc1",
    "scrolled": true
   },
   "outputs": [],
   "source": [
    "from skimage import exposure\n",
    "from PIL import Image\n",
    "import tifffile as tiff\n",
    "\n",
    "image_data = []\n",
    "\n",
    "mask_data = []\n",
    "\n",
    "for img_file, mask_file in image_mask_pairs:\n",
    "    img = Image.open(img_file)\n",
    "    mask= tiff.imread(mask_file)\n",
    "    img_data = np.array(img,dtype=np.float16)\n",
    "    img_data=apply_clahe(img_data)\n",
    "    msk_data =np.array(mask,dtype=np.float16)\n",
    "    image_data.append(img_data)\n",
    "    mask_data.append(msk_data)\n"
   ]
  },
  {
   "cell_type": "code",
   "execution_count": 22,
   "metadata": {},
   "outputs": [],
   "source": [
    "dataset= list(zip(image_data,mask_data,bin_masks))"
   ]
  },
  {
   "cell_type": "code",
   "execution_count": 23,
   "metadata": {
    "colab": {
     "base_uri": "https://localhost:8080/"
    },
    "executionInfo": {
     "elapsed": 637,
     "status": "ok",
     "timestamp": 1689504192547,
     "user": {
      "displayName": "Devichand Budagam",
      "userId": "10992858854209313897"
     },
     "user_tz": -330
    },
    "id": "L0VJNuD_HewK",
    "outputId": "00fd2892-5e40-4526-c1f6-9754690a79d5"
   },
   "outputs": [
    {
     "data": {
      "text/plain": [
       "425"
      ]
     },
     "execution_count": 23,
     "metadata": {},
     "output_type": "execute_result"
    }
   ],
   "source": [
    "len(dataset)"
   ]
  },
  {
   "cell_type": "code",
   "execution_count": 24,
   "metadata": {},
   "outputs": [],
   "source": [
    "import cv2\n",
    "\n",
    "def resize_img(input_image,input_mask,input_bb):\n",
    "  input_image = cv2.resize(input_image, (512,512), interpolation=cv2.INTER_NEAREST)\n",
    "  input_bb = np.transpose(input_bb, axes=[1, 2, 0])\n",
    "  input_bb = cv2.resize(input_bb, (512,512), interpolation=cv2.INTER_NEAREST)\n",
    "  input_mask = np.transpose(input_mask, axes=[1, 2, 0])\n",
    "  input_mask = cv2.resize(input_mask, (512,512), interpolation=cv2.INTER_NEAREST)\n",
    "  return input_image,input_mask,input_bb\n",
    "\n"
   ]
  },
  {
   "cell_type": "code",
   "execution_count": 25,
   "metadata": {},
   "outputs": [],
   "source": [
    "def augment(input_image,input_mask,input_bb):\n",
    "    if np.random.uniform() > 0.5:\n",
    "        input_image = np.fliplr(input_image)\n",
    "        input_mask = np.fliplr(input_mask)\n",
    "        input_bb = np.fliplr(input_bb)\n",
    "        \n",
    "    return input_image,input_mask,input_bb"
   ]
  },
  {
   "cell_type": "code",
   "execution_count": 26,
   "metadata": {},
   "outputs": [],
   "source": [
    "def normalize(image_data):\n",
    "    image_data = (image_data - np.min(image_data)) / (np.max(image_data) - np.min(image_data))\n",
    "    return image_data"
   ]
  },
  {
   "cell_type": "code",
   "execution_count": 27,
   "metadata": {
    "executionInfo": {
     "elapsed": 623,
     "status": "ok",
     "timestamp": 1689504266772,
     "user": {
      "displayName": "Devichand Budagam",
      "userId": "10992858854209313897"
     },
     "user_tz": -330
    },
    "id": "Ivo_IMnFIyEn"
   },
   "outputs": [],
   "source": [
    "def load_image_train(datapoint):\n",
    "    input_image=datapoint[0]\n",
    "    input_mask= datapoint[1]\n",
    "    input_bb =datapoint[2]\n",
    "    input_image, input_mask, input_bb = resize_img(input_image, input_mask, input_bb)\n",
    "    input_image = normalize(input_image)\n",
    "    input_image, input_mask, input_bb = augment(input_image, input_mask, input_bb)\n",
    "\n",
    "\n",
    "    return input_image, input_mask, input_bb"
   ]
  },
  {
   "cell_type": "code",
   "execution_count": 28,
   "metadata": {
    "colab": {
     "base_uri": "https://localhost:8080/"
    },
    "executionInfo": {
     "elapsed": 100829,
     "status": "ok",
     "timestamp": 1689504389079,
     "user": {
      "displayName": "Devichand Budagam",
      "userId": "10992858854209313897"
     },
     "user_tz": -330
    },
    "id": "afsBMFVx9wgM",
    "outputId": "e6ba7980-dda4-4a66-c452-9dd9c5bf3c27"
   },
   "outputs": [],
   "source": [
    "new_dataset=list(map(load_image_train,dataset))"
   ]
  },
  {
   "cell_type": "code",
   "execution_count": null,
   "metadata": {},
   "outputs": [],
   "source": [
    "import random\n",
    "\n",
    "# Define the dataset and categories\n",
    "dataset = new_dataset\n",
    "categories = [24, 72, 15, 32, 37, 30, 33, 140, 7, 35]\n",
    "\n",
    "# Initialize the test and train datasets\n",
    "test_dataset = []\n",
    "train_dataset = []\n",
    "\n",
    "# Set the random seed for reproducibility\n",
    "random.seed(42)\n",
    "sum = 0\n",
    "# Loop through each category\n",
    "for i, category_count in enumerate(categories):\n",
    "    # Shuffle the images for the current category\n",
    "    random.shuffle(dataset[sum:category_count])  # Shuffle only within the current category\n",
    "    \n",
    "    # Calculate the number of images for testing (20%)\n",
    "    num_test_images = int(0.2 * category_count)\n",
    "    \n",
    "    # Split the images into test and train\n",
    "    test_images = dataset[sum:sum + num_test_images]\n",
    "    train_images = dataset[sum + num_test_images:sum + category_count]\n",
    "    \n",
    "    # Update the test and train datasets\n",
    "    test_dataset.extend(test_images)\n",
    "    train_dataset.extend(train_images)\n",
    "    \n",
    "    # Print the category and the number of images in the test dataset\n",
    "    print(f'Category {i + 1}: {num_test_images} images in the test dataset')\n",
    "    sum+=category_count\n"
   ]
  },
  {
   "cell_type": "code",
   "execution_count": 31,
   "metadata": {
    "executionInfo": {
     "elapsed": 609,
     "status": "ok",
     "timestamp": 1689504905689,
     "user": {
      "displayName": "Devichand Budagam",
      "userId": "10992858854209313897"
     },
     "user_tz": -330
    },
    "id": "xMDu0AO9SIVJ"
   },
   "outputs": [],
   "source": [
    "import matplotlib.pyplot as plt\n",
    "import numpy as np\n",
    "from matplotlib.colors import ListedColormap"
   ]
  },
  {
   "cell_type": "code",
   "execution_count": null,
   "metadata": {
    "colab": {
     "base_uri": "https://localhost:8080/"
    },
    "executionInfo": {
     "elapsed": 671,
     "status": "ok",
     "timestamp": 1689504922898,
     "user": {
      "displayName": "Devichand Budagam",
      "userId": "10992858854209313897"
     },
     "user_tz": -330
    },
    "id": "yYjnxn2CVMPm",
    "outputId": "41c08096-5b2f-4960-fe37-5a1d21d71569"
   },
   "outputs": [],
   "source": [
    "obj=train_dataset[10]\n",
    "image=obj[0]\n",
    "image.shape\n",
    "mask=obj[1]\n",
    "bb=obj[2]"
   ]
  },
  {
   "cell_type": "code",
   "execution_count": null,
   "metadata": {
    "editable": true,
    "slideshow": {
     "slide_type": ""
    },
    "tags": []
   },
   "outputs": [],
   "source": [
    "pil_image = tf.keras.preprocessing.image.array_to_img(image)\n",
    "plt.imshow(pil_image)\n",
    "plt.axis('off')"
   ]
  },
  {
   "cell_type": "code",
   "execution_count": null,
   "metadata": {
    "colab": {
     "base_uri": "https://localhost:8080/",
     "height": 406
    },
    "editable": true,
    "executionInfo": {
     "elapsed": 686,
     "status": "ok",
     "timestamp": 1689505291695,
     "user": {
      "displayName": "Devichand Budagam",
      "userId": "10992858854209313897"
     },
     "user_tz": -330
    },
    "id": "53OFZQz6S1MT",
    "outputId": "de763c8e-a1bb-4237-9ef8-8efefd043022",
    "scrolled": true,
    "slideshow": {
     "slide_type": ""
    },
    "tags": []
   },
   "outputs": [],
   "source": [
    "colormap = ListedColormap(['#000000'] * 32)\n",
    "\n",
    "combined_image = np.zeros((512,512, 3), dtype=np.uint16)\n",
    "\n",
    "for i in range(mask.shape[2]):\n",
    "    image = mask[:,:,i]\n",
    "\n",
    "    if i == 0 or i == 1 or i == 8 or i == 9 or i == 16 or i == 17 or i == 24 or i == 25:\n",
    "      colormap.colors[i] = '#2828a2'\n",
    "    elif i == 2 or i == 10 or i == 18 or i == 26:\n",
    "      colormap.colors[i] = '#09c5c5'\n",
    "    elif i == 3 or i == 4 or i == 11 or i == 12 or i == 19 or i == 20 or i == 27 or i == 28:\n",
    "      colormap.colors[i] = '#1caf1c'\n",
    "    elif i == 5 or i == 6 or i == 7:\n",
    "      colormap.colors[i] = '#eeee25'\n",
    "    elif i == 13 or i == 14 or i == 15:\n",
    "      colormap.colors[i] = '#eeee25'\n",
    "    elif i == 21 or i == 22 or i == 23:\n",
    "      colormap.colors[i] = '#eeee25'\n",
    "    elif i == 29 or i == 30 or i == 31:\n",
    "      colormap.colors[i] = '#eeee25'\n",
    "\n",
    "    hex_color = colormap.colors[i]\n",
    "    rgb_color = np.array([int(hex_color[i:i+2], 16) for i in (1, 3, 5)], dtype=np.uint16)\n",
    "\n",
    "    mask_new = np.where(image > 0, 1, 0)\n",
    "\n",
    "    rgb_color_tiled = np.tile(rgb_color, (512, 512, 1))\n",
    "\n",
    "    colored_image = mask_new[:, :, np.newaxis] * rgb_color_tiled\n",
    "\n",
    "    combined_image = combined_image + colored_image\n",
    "\n",
    "    combined_image = combined_image.astype(np.uint8)\n",
    "\n",
    "plt.imshow(combined_image)\n",
    "plt.axis('off')\n",
    "plt.show()\n"
   ]
  },
  {
   "cell_type": "code",
   "execution_count": null,
   "metadata": {
    "colab": {
     "base_uri": "https://localhost:8080/",
     "height": 406
    },
    "executionInfo": {
     "elapsed": 647,
     "status": "ok",
     "timestamp": 1689505306667,
     "user": {
      "displayName": "Devichand Budagam",
      "userId": "10992858854209313897"
     },
     "user_tz": -330
    },
    "id": "wuiasXYraOI1",
    "outputId": "3560faa5-ada3-45ee-f8e8-68c43f6b4c0d"
   },
   "outputs": [],
   "source": [
    "colormap = ListedColormap(['#000000'] * 32)\n",
    "\n",
    "combined_image = np.zeros((512,512, 3), dtype=np.uint16)\n",
    "\n",
    "for i in range(bb.shape[2]):\n",
    "    image = bb[:,:,i]\n",
    "\n",
    "    if i == 0 or i == 1 or i == 8 or i == 9 or i == 16 or i == 17 or i == 24 or i == 25:\n",
    "      colormap.colors[i] = '#2828a2'\n",
    "    elif i == 2 or i == 10 or i == 18 or i == 26:\n",
    "      colormap.colors[i] = '#09c5c5'\n",
    "    elif i == 3 or i == 4 or i == 11 or i == 12 or i == 19 or i == 20 or i == 27 or i == 28:\n",
    "      colormap.colors[i] = '#1caf1c'\n",
    "    elif i == 5 or i == 6 or i == 7:\n",
    "      colormap.colors[i] = '#eeee25'\n",
    "    elif i == 13 or i == 14 or i == 15:\n",
    "      colormap.colors[i] = '#eeee25'\n",
    "    elif i == 21 or i == 22 or i == 23:\n",
    "      colormap.colors[i] = '#eeee25'\n",
    "    elif i == 29 or i == 30 or i == 31:\n",
    "      colormap.colors[i] = '#eeee25'\n",
    "\n",
    "    hex_color = colormap.colors[i]\n",
    "    rgb_color = np.array([int(hex_color[i:i+2], 16) for i in (1, 3, 5)], dtype=np.uint16)\n",
    "\n",
    "    mask_new = np.where(image > 0, 1, 0)\n",
    "\n",
    "    rgb_color_tiled = np.tile(rgb_color, (512,512, 1))\n",
    "\n",
    "    colored_image = mask_new[:, :, np.newaxis] * rgb_color_tiled\n",
    "\n",
    "    combined_image = combined_image + colored_image\n",
    "\n",
    "    combined_image = combined_image.astype(np.uint8)\n",
    "\n",
    "plt.imshow(combined_image)\n",
    "plt.axis('off')\n",
    "plt.show()\n"
   ]
  },
  {
   "cell_type": "code",
   "execution_count": 42,
   "metadata": {},
   "outputs": [],
   "source": [
    "def convert_to_array(data):\n",
    "    image=data[0]\n",
    "    bb=data[2]\n",
    "    image=image\n",
    "    final_array=np.concatenate((bb,image),axis=2)\n",
    "    return final_array"
   ]
  },
  {
   "cell_type": "code",
   "execution_count": 43,
   "metadata": {},
   "outputs": [],
   "source": [
    "train_list=list(map(convert_to_array,train_dataset))"
   ]
  },
  {
   "cell_type": "code",
   "execution_count": 44,
   "metadata": {},
   "outputs": [],
   "source": [
    "# Test DataSet\n",
    "test_list = list(map(convert_to_array,test_dataset))"
   ]
  },
  {
   "cell_type": "code",
   "execution_count": 48,
   "metadata": {},
   "outputs": [],
   "source": [
    "image,mask,bb = zip(*train_dataset)"
   ]
  },
  {
   "cell_type": "code",
   "execution_count": 49,
   "metadata": {},
   "outputs": [],
   "source": [
    "# Test DataSet\n",
    "image_test,mask_test,bb_test = zip(*test_dataset)"
   ]
  },
  {
   "cell_type": "code",
   "execution_count": 53,
   "metadata": {},
   "outputs": [],
   "source": [
    "drop_rate = 0.12\n",
    "from tensorflow.keras.metrics import  Precision, Recall\n",
    "from tensorflow import keras\n",
    "def get_model(img_size, num_classes):\n",
    "    inputs = keras.Input(shape=img_size + (35,))\n",
    "    \n",
    "    # ... (Encoder) ...\n",
    "    inputs0=inputs[ :, :, :, 32:]\n",
    "    inputs1=inputs[ :, :, :, :32]\n",
    "    skip_connections = []  # To store feature maps from each encoder block\n",
    "    # Entry block\n",
    "    x = keras.layers.Conv2D(64, 3, strides=1, padding=\"same\")(inputs0)\n",
    "    x = keras.layers.Activation(\"relu\")(x)\n",
    "    x = keras.layers.BatchNormalization()(x)\n",
    "    x = keras.layers.SpatialDropout2D(drop_rate)(x)\n",
    "\n",
    "    x = keras.layers.Conv2D(64, 3, strides=1, padding=\"same\")(x)\n",
    "    x = keras.layers.Activation(\"relu\")(x)\n",
    "    x = keras.layers.BatchNormalization()(x)\n",
    "    x = keras.layers.SpatialDropout2D(drop_rate)(x)\n",
    "\n",
    "    skip_connections.append(x)\n",
    "    \n",
    "    for filters in [128,256,512,1024]: #1024\n",
    "        x = keras.layers.MaxPooling2D(3, strides=2, padding=\"same\")(x)\n",
    "        x = keras.layers.Conv2D(filters, 3, padding=\"same\")(x)\n",
    "        x = keras.layers.Activation(\"relu\")(x)\n",
    "        x = keras.layers.BatchNormalization()(x)\n",
    "        x = keras.layers.SpatialDropout2D(drop_rate)(x)\n",
    "        \n",
    "        x = keras.layers.Conv2D(filters, 3, padding=\"same\")(x)\n",
    "        x = keras.layers.Activation(\"relu\")(x)\n",
    "        x = keras.layers.BatchNormalization()(x)\n",
    "        x = keras.layers.SpatialDropout2D(drop_rate)(x)\n",
    "        skip_connections.append(x)\n",
    "\n",
    "        \n",
    "    skip_connections.pop()\n",
    "    for filters in [512,256,128]: #512\n",
    "        x = keras.layers.Conv2DTranspose(filters, 3,strides=2, padding=\"same\")(x)\n",
    "        x = keras.layers.Activation(\"relu\")(x)\n",
    "        x = keras.layers.BatchNormalization()(x)\n",
    "        x = keras.layers.SpatialDropout2D(drop_rate)(x)\n",
    "        skip_connection = skip_connections.pop()\n",
    "        x = keras.layers.concatenate([x, skip_connection])  \n",
    "        \n",
    "        x = keras.layers.Conv2D(filters, 3, padding=\"same\")(x)\n",
    "        x = keras.layers.Activation(\"relu\")(x)\n",
    "        x = keras.layers.BatchNormalization()(x)\n",
    "        x = keras.layers.SpatialDropout2D(drop_rate)(x)\n",
    "        \n",
    "        x = keras.layers.Conv2D(filters, 3, padding=\"same\")(x)\n",
    "        x = keras.layers.Activation(\"relu\")(x)\n",
    "        x = keras.layers.BatchNormalization()(x)\n",
    "        x = keras.layers.SpatialDropout2D(drop_rate)(x)\n",
    "\n",
    "    filters=64   \n",
    "    x = keras.layers.Conv2DTranspose(filters, 3,strides=2, padding=\"same\")(x)\n",
    "    x = keras.layers.Activation(\"relu\")(x)\n",
    "    x = keras.layers.BatchNormalization()(x)\n",
    "    x = keras.layers.SpatialDropout2D(drop_rate)(x)\n",
    "    skip_connection = skip_connections.pop()\n",
    "    x = keras.layers.concatenate([x, skip_connection])  \n",
    "        \n",
    "    x = keras.layers.Conv2D(filters, 3, padding=\"same\")(x)\n",
    "    x = keras.layers.Activation(\"relu\")(x)\n",
    "    x = keras.layers.BatchNormalization()(x)\n",
    "    x = keras.layers.SpatialDropout2D(drop_rate)(x)\n",
    "        \n",
    "    x = keras.layers.Conv2D(filters, 3, padding=\"same\")(x)\n",
    "    x = keras.layers.Activation(\"relu\")(x)\n",
    "    x = keras.layers.BatchNormalization()(x)\n",
    "\n",
    "    outputs = keras.layers.Conv2D(num_classes, 1, activation=\"softmax\", padding=\"same\")(\n",
    "        x\n",
    "    )\n",
    "    model = keras.Model(inputs, outputs)\n",
    "    return model\n"
   ]
  },
  {
   "cell_type": "code",
   "execution_count": 54,
   "metadata": {
    "id": "mIuSPDYqjWHu"
   },
   "outputs": [],
   "source": [
    "import tensorflow as tf\n",
    "\n",
    "def dice_loss_with_l2_regularization(target, predicted, epsilon=1e-7, l2_weight=0.1):\n",
    "    intersection = tf.reduce_sum(predicted * target, axis=[1, 2]) \n",
    "    predicted_square = tf.square(predicted)\n",
    "    target_square = tf.square(target)\n",
    "    union = tf.reduce_sum(predicted_square, axis=[1, 2]) + tf.reduce_sum(target_square, axis=[1, 2])\n",
    "    dice = (2 * intersection + epsilon) / (union + epsilon)\n",
    "    mean_dice_loss = tf.reduce_mean(dice)\n",
    "    \n",
    "    l2_norm = tf.reduce_sum(tf.square(predicted - target), axis=[1, 2])\n",
    "    l2_regularization = l2_weight * tf.reduce_mean(l2_norm)\n",
    "    \n",
    "    total_loss = mean_dice_loss + l2_regularization\n",
    "    return total_loss\n"
   ]
  },
  {
   "cell_type": "code",
   "execution_count": 55,
   "metadata": {},
   "outputs": [],
   "source": [
    "import tensorflow as tf\n",
    "\n",
    "def dice_coef(target, predicted, epsilon=1e-7):\n",
    "    predicted = tf.where(predicted<0.51,0.00,1.00)\n",
    "    intersection = tf.reduce_sum(predicted * target, axis=[1, 2]) \n",
    "    predicted_square = tf.square(predicted)\n",
    "    target_square = tf.square(target)\n",
    "    union = tf.reduce_sum(predicted_square, axis=[1, 2]) + tf.reduce_sum(target_square, axis=[1, 2])\n",
    "    dice = (2 * intersection + epsilon) / (union + epsilon)\n",
    "    mean_dice_loss = -tf.reduce_mean(dice)\n",
    "    return -mean_dice_loss"
   ]
  },
  {
   "cell_type": "code",
   "execution_count": null,
   "metadata": {},
   "outputs": [],
   "source": [
    "import random\n",
    "\n",
    "# Define the dataset and categories\n",
    "categories = [20, 58, 12, 26, 30, 24, 27, 112, 6, 28]\n",
    "\n",
    "\n",
    "# Initialize the test and train datasets\n",
    "train_x = [] \n",
    "valid_x = [] \n",
    "train_y = [] \n",
    "valid_y = []\n",
    "\n",
    "# Set the random seed for reproducibility\n",
    "random.seed(42)\n",
    "sum = 0\n",
    "# Loop through each category\n",
    "for i, category_count in enumerate(categories):\n",
    "    # Shuffle the images for the current category\n",
    "    random.shuffle(dataset[sum:category_count])  # Shuffle only within the current category\n",
    "    \n",
    "    # Calculate the number of images for testing (20%)\n",
    "    num_test_images = int(0.1 * category_count)\n",
    "    \n",
    "    # Split the images into test and train\n",
    "    test_images = train_list[sum:sum + num_test_images]\n",
    "    train_images = train_list[sum + num_test_images:sum + category_count]\n",
    "\n",
    "    testy_images = mask[sum:sum + num_test_images]\n",
    "    trainy_images = mask[sum + num_test_images:sum + category_count]\n",
    "    \n",
    "    # Update the test and train datasets\n",
    "    valid_x.extend(test_images)\n",
    "    train_x.extend(train_images)\n",
    "\n",
    "    valid_y.extend(testy_images)\n",
    "    train_y.extend(trainy_images)\n",
    "    \n",
    "    # Print the category and the number of images in the test dataset\n",
    "    print(f'Category {i + 1}: {num_test_images} images in the valid dataset')\n",
    "    sum+=category_count\n"
   ]
  },
  {
   "cell_type": "code",
   "execution_count": 61,
   "metadata": {
    "scrolled": true
   },
   "outputs": [],
   "source": [
    " with tf.device('/CPU:0'):\n",
    "    train_dataset=tf.data.Dataset.from_tensor_slices((train_x, train_y))\n",
    "    valid_dataset=tf.data.Dataset.from_tensor_slices((valid_x, valid_y))"
   ]
  },
  {
   "cell_type": "code",
   "execution_count": 62,
   "metadata": {},
   "outputs": [],
   "source": [
    "def cast_to_tensor(data, label):\n",
    "    label=tf.cast(label, tf.float32)\n",
    "    return data, label\n",
    "with tf.device('/CPU:0'):\n",
    "    train_dataset= train_dataset.map(cast_to_tensor)\n",
    "    valid_dataset= valid_dataset.map(cast_to_tensor)"
   ]
  },
  {
   "cell_type": "code",
   "execution_count": 63,
   "metadata": {},
   "outputs": [],
   "source": [
    " train_dataset1= train_dataset.batch(2)\n",
    " valid_dataset1= valid_dataset.batch(2)"
   ]
  },
  {
   "cell_type": "code",
   "execution_count": 66,
   "metadata": {},
   "outputs": [],
   "source": [
    "from sklearn.model_selection import train_test_split\n",
    "\n",
    "test_x, nil_x, test_y, nil_y= train_test_split(test_list, mask_test, test_size=0.00001)"
   ]
  },
  {
   "cell_type": "code",
   "execution_count": 67,
   "metadata": {},
   "outputs": [],
   "source": [
    "# Test DataSet\n",
    "with tf.device('/CPU:0'):\n",
    "    test_dataset=tf.data.Dataset.from_tensor_slices((test_x, test_y))"
   ]
  },
  {
   "cell_type": "code",
   "execution_count": 68,
   "metadata": {},
   "outputs": [],
   "source": [
    "# Test DataSet\n",
    "def cast_to_tensor(data, label):\n",
    "    label=tf.cast(label, tf.float32)\n",
    "    return data, label\n",
    "with tf.device('/CPU:0'):\n",
    "    test_dataset= test_dataset.map(cast_to_tensor)"
   ]
  },
  {
   "cell_type": "code",
   "execution_count": 69,
   "metadata": {},
   "outputs": [],
   "source": [
    "# Test DataSet\n",
    "test_dataset1= test_dataset.batch(2)"
   ]
  },
  {
   "cell_type": "code",
   "execution_count": 77,
   "metadata": {
    "scrolled": true
   },
   "outputs": [],
   "source": [
    "# Build model\n",
    "import tensorflow as tf\n",
    "from tensorflow.keras.metrics import  Precision, Recall\n",
    "from tensorflow.keras.callbacks import Callback\n",
    "\n",
    "\n",
    "class ReduceLearningRate(Callback):\n",
    "    def __init__(self, monitor='val_loss', factor=0.5, patience=5, min_lr=1e-6, verbose=1):\n",
    "        super(ReduceLearningRate, self).__init__()\n",
    "        self.monitor = monitor\n",
    "        self.factor = factor\n",
    "        self.patience = patience\n",
    "        self.min_lr = min_lr\n",
    "        self.verbose = verbose\n",
    "        self.wait = 0\n",
    "        self.best_loss = float('inf')\n",
    "        self.reduce_lr = self.min_lr\n",
    "\n",
    "    def on_epoch_end(self, epoch, logs=None):\n",
    "        current_loss = logs.get(self.monitor)\n",
    "\n",
    "        if current_loss is None:\n",
    "            raise ValueError(f\"Monitoring metric '{self.monitor}' is not available.\")\n",
    "\n",
    "        if current_loss < self.best_loss:\n",
    "            self.best_loss = current_loss\n",
    "            self.wait = 0\n",
    "            self.reduce_lr = self.model.optimizer.learning_rate\n",
    "        else:\n",
    "            self.wait += 1\n",
    "            if self.wait >= self.patience:\n",
    "                if self.reduce_lr > self.min_lr:\n",
    "                    self.reduce_lr = self.reduce_lr*self.factor\n",
    "                    self.model.optimizer.learning_rate.assign(self.reduce_lr)\n",
    "                    if self.verbose > 0:\n",
    "                        print(f\"\\nEpoch {epoch + 1}: Reducing learning rate to {self.reduce_lr}\")\n",
    "                self.wait = 0\n",
    "\n",
    "lr_callback = ReduceLearningRate(monitor='val_loss', factor=0.5, patience=5, min_lr=1e-6)\n",
    "\n",
    "\n",
    "\n",
    "model = get_model(img_size=(512, 512), num_classes=32)\n",
    "\n",
    "model.compile(\n",
    "    optimizer=keras.optimizers.Adam(0.0003),\n",
    "    loss =dice_loss_with_l2_regularization,\n",
    "     metrics = [ Precision(), Recall(),dice_coef]\n",
    ")\n",
    "\n"
   ]
  },
  {
   "cell_type": "code",
   "execution_count": null,
   "metadata": {},
   "outputs": [],
   "source": [
    "#Train the model, doing validation at the end of each epoch.\n",
    "history = model.fit(\n",
    "    train_dataset1, \n",
    "    epochs=60, \n",
    "    validation_data=valid_dataset1, \n",
    "    callbacks=[lr_callback] \n",
    ")\n"
   ]
  },
  {
   "cell_type": "code",
   "execution_count": null,
   "metadata": {},
   "outputs": [],
   "source": [
    "object= test_dataset1.take(1)\n",
    "def extract_image(image,label):\n",
    "    return image\n",
    "image=object.map(extract_image)\n",
    "predictions=model.predict(image)\n",
    "print(\"img\")\n",
    "print(predictions)"
   ]
  },
  {
   "cell_type": "code",
   "execution_count": null,
   "metadata": {},
   "outputs": [],
   "source": [
    "output=predictions[0,:,:,:]\n",
    "output= np.where(output<0.5,0,1)"
   ]
  },
  {
   "cell_type": "code",
   "execution_count": null,
   "metadata": {},
   "outputs": [],
   "source": [
    "channel = output[:,:,2]\n",
    "plt.imshow(channel, cmap=\"gray\")\n",
    "plt.show()"
   ]
  },
  {
   "cell_type": "code",
   "execution_count": null,
   "metadata": {},
   "outputs": [],
   "source": [
    "colormap = ListedColormap(['#000000'] * 32)\n",
    "\n",
    "combined_image = np.zeros((512,512, 3), dtype=np.uint16)\n",
    "\n",
    "for i in range(output.shape[2]):\n",
    "    image = output[:,:,i]\n",
    "\n",
    "    if i == 0 or i == 1 or i == 8 or i == 9 or i == 16 or i == 17 or i == 24 or i == 25:\n",
    "      colormap.colors[i] = '#2828a2'\n",
    "    elif i == 2 or i == 10 or i == 18 or i == 26:\n",
    "      colormap.colors[i] = '#09c5c5'\n",
    "    elif i == 3 or i == 4 or i == 11 or i == 12 or i == 19 or i == 20 or i == 27 or i == 28:\n",
    "      colormap.colors[i] = '#1caf1c'\n",
    "    elif i == 5 or i == 6 or i == 7:\n",
    "      colormap.colors[i] = '#eeee25'\n",
    "    elif i == 13 or i == 14 or i == 15:\n",
    "      colormap.colors[i] = '#eeee25'\n",
    "    elif i == 21 or i == 22 or i == 23:\n",
    "      colormap.colors[i] = '#eeee25'\n",
    "    elif i == 29 or i == 30 or i == 31:\n",
    "      colormap.colors[i] = '#eeee25'\n",
    "\n",
    "    hex_color = colormap.colors[i]\n",
    "    rgb_color = np.array([int(hex_color[i:i+2], 16) for i in (1, 3, 5)], dtype=np.uint16)\n",
    "\n",
    "    mask_new = np.where(image > 0, 1, 0)\n",
    "\n",
    "    rgb_color_tiled = np.tile(rgb_color, (512,512, 1))\n",
    "\n",
    "    colored_image = mask_new[:, :, np.newaxis] * rgb_color_tiled\n",
    "\n",
    "    combined_image = combined_image + colored_image\n",
    "\n",
    "    combined_image = combined_image.astype(np.uint8)\n",
    "\n",
    "plt.imshow(combined_image)\n",
    "plt.axis('off')\n",
    "plt.show()"
   ]
  },
  {
   "cell_type": "code",
   "execution_count": 87,
   "metadata": {},
   "outputs": [],
   "source": [
    "#save the weights of the model\n",
    "model.save('...')"
   ]
  }
 ],
 "metadata": {
  "accelerator": "GPU",
  "colab": {
   "gpuType": "A100",
   "machine_shape": "hm",
   "provenance": []
  },
  "kernelspec": {
   "display_name": "TensorFlow-GPU",
   "language": "python",
   "name": "tensorflow-gpu"
  },
  "language_info": {
   "codemirror_mode": {
    "name": "ipython",
    "version": 3
   },
   "file_extension": ".py",
   "mimetype": "text/x-python",
   "name": "python",
   "nbconvert_exporter": "python",
   "pygments_lexer": "ipython3",
   "version": "3.9.17"
  }
 },
 "nbformat": 4,
 "nbformat_minor": 4
}
